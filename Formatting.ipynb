{
 "cells": [
  {
   "cell_type": "code",
   "execution_count": 6,
   "metadata": {},
   "outputs": [
    {
     "name": "stdout",
     "output_type": "stream",
     "text": [
      "날짜: 2020-08-27 / 출석률: 80.8%\n",
      "날짜 : 2020-08-27 / 출석률 : 80.8\n"
     ]
    }
   ],
   "source": [
    "day='2020-08-27'\n",
    "total_student = 26\n",
    "attend_student = 21\n",
    "p=attend_student/total_student *100\n",
    "txt='날짜: %s / 출석률: %0.1f%%' %(day,p) #%출력하기 위해 %하나 더 쓰기\n",
    "print(txt)\n",
    "print('날짜 : {} / 출석률 : {:.1f}'.format(day,p))\n",
    "#print함수 내에서 포맷팅, 문자형 실수형 구분 필요X\n",
    "#.1f 소수 첫째자리에서 반올림"
   ]
  }
 ],
 "metadata": {
  "kernelspec": {
   "display_name": "Python 3",
   "language": "python",
   "name": "python3"
  },
  "language_info": {
   "codemirror_mode": {
    "name": "ipython",
    "version": 3
   },
   "file_extension": ".py",
   "mimetype": "text/x-python",
   "name": "python",
   "nbconvert_exporter": "python",
   "pygments_lexer": "ipython3",
   "version": "3.7.6"
  }
 },
 "nbformat": 4,
 "nbformat_minor": 4
}
